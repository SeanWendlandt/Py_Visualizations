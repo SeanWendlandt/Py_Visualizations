{
 "cells": [
  {
   "cell_type": "code",
   "execution_count": 1,
   "id": "4ba3db54-48f6-429f-8add-42e7c6f6bf8f",
   "metadata": {},
   "outputs": [],
   "source": [
    "# Sean Wendlandt 6/21/2022\n",
    "\n",
    "import pandas as pd\n",
    "import numpy as np\n",
    "from numpy.random import seed\n",
    "from numpy.random import normal\n",
    "import random\n",
    "from random import randint\n"
   ]
  },
  {
   "cell_type": "code",
   "execution_count": 2,
   "id": "da9889e2-6586-49ce-a9f9-bb0395b42ff7",
   "metadata": {},
   "outputs": [
    {
     "name": "stdout",
     "output_type": "stream",
     "text": [
      "  Element Name Symbol  Atomic Number  Weights\n",
      "0     Hydrogen      H              1        1\n",
      "1       Helium     He              2        4\n",
      "2      Lithium     Li              3        7\n",
      "3    Beryllium     Be              4        9\n",
      "4        Boron      B              5       11\n",
      "5       Carbon      C              6       12\n",
      "6     Nitrogen      N              7       14\n",
      "7       Oxygen      O              8       16\n",
      "8     Flourine      F              9       19\n",
      "9         Neon     Ne             10       20\n"
     ]
    }
   ],
   "source": [
    "#Part 1\n",
    "\n",
    "# Reading in base periodic table\n",
    "Periodic_t = pd.read_csv('C:\\\\Users\\\\Seanw\\\\OneDrive\\\\Desktop\\\\GitHub_Items\\\\Py_Visualizations\\\\Element_Sheet.csv')\n",
    "\n",
    "# Adding two elements\n",
    "Periodic_t.loc[len(Periodic_t.index)] = ['Flourine', 'F', 9]\n",
    "Periodic_t.loc[len(Periodic_t.index)] = ['Neon', 'Ne', 10]\n",
    "# Adding Column\n",
    "Weights = [1, 4, 7, 9, 11, 12, 14, 16, 19, 20]\n",
    "Periodic_t['Weights'] = Weights\n",
    "           \n",
    "\n",
    "\n",
    "print(Periodic_t)"
   ]
  },
  {
   "cell_type": "code",
   "execution_count": 3,
   "id": "7153f6ce-fa0a-4725-b914-5f41c512e5e4",
   "metadata": {},
   "outputs": [
    {
     "name": "stdout",
     "output_type": "stream",
     "text": [
      "  Greek Letters   randele1   randele2     angle      cosangle\n",
      "0        Lambda   8.371554   8.699889  0.000000  1.000000e+00\n",
      "1          Beta  11.496018   8.981671  0.785398  7.071068e-01\n",
      "2          Zeta  10.424468   9.857937  1.570796  6.123234e-17\n",
      "3         Kappa   7.740558  12.237084  2.356194 -7.071068e-01\n",
      "4       Omicron   9.132100   9.041647  3.141593 -1.000000e+00\n",
      "5         Gamma  12.477155   9.334027  3.926991 -7.071068e-01\n",
      "6            Mu   6.359981   9.348473  4.712389 -1.836970e-16\n",
      "7       Epsilon   9.356631  13.308895  5.497787  7.071068e-01\n",
      "8            Xi  11.898904  13.280179  6.283185  1.000000e+00\n",
      "  Greek Letters   randele2     angle\n",
      "1          Beta   8.981671  0.785398\n",
      "7       Epsilon  13.308895  5.497787\n",
      "5         Gamma   9.334027  3.926991\n",
      "0        Lambda   8.699889  0.000000\n",
      "6            Mu   9.348473  4.712389\n",
      "4       Omicron   9.041647  3.141593\n",
      "8            Xi  13.280179  6.283185\n",
      "2          Zeta   9.857937  1.570796\n"
     ]
    }
   ],
   "source": [
    "#Part 2\n",
    "\n",
    "#Making Greek Letters\n",
    "letters = ['Lambda', 'Beta', 'Zeta', 'Kappa', 'Omicron', 'Gamma', 'Mu', 'Epsilon', 'Xi']\n",
    "\n",
    "seed(123)\n",
    "# two nine-element arrays of random floats w mean of 10 and std.dev of 1.5\n",
    "dat1 = normal(loc=10, scale=1.5, size=9)\n",
    "dat2 = normal(loc=10, scale=1.5, size=9)\n",
    "\n",
    "# 9 elements ranging from 0 to 2*pi\n",
    "angle = np.linspace(0, 2*np.pi, 9)\n",
    "\n",
    "# cosine array of angle values\n",
    "cosangle = np.cos(angle)\n",
    "\n",
    "#Dataframe with all the info\n",
    "d = {'Greek Letters': letters, 'randele1': dat1, 'randele2': dat2, 'angle': angle, 'cosangle':cosangle}\n",
    "greek_df = pd.DataFrame(data=d)\n",
    "print(greek_df)\n",
    "\n",
    "# Sorting dataframe by letters\n",
    "sorted_df = greek_df.sort_values(by='Greek Letters')\n",
    "\n",
    "#Dropping two columns and a row\n",
    "new_greek_df = sorted_df.drop(['randele1','cosangle'], axis=1)\n",
    "new_greek_df = new_greek_df.drop(new_greek_df.index[[3]])\n",
    "\n",
    "#printing new df\n",
    "print(new_greek_df)"
   ]
  },
  {
   "cell_type": "code",
   "execution_count": 4,
   "id": "6ba7d24a-882c-4383-9ba6-de272a2700cc",
   "metadata": {},
   "outputs": [
    {
     "name": "stdout",
     "output_type": "stream",
     "text": [
      "[13, 21, 34, 55, 89]\n",
      "[1.625, 1.6153846153846154, 1.619047619047619, 1.6176470588235294, 1.6181818181818182]\n"
     ]
    },
    {
     "data": {
      "text/plain": [
       "'\\nNotice that it approches the golden ratio at this point as the numbers increase by roughly 1.6 every time.\\n'"
      ]
     },
     "execution_count": 4,
     "metadata": {},
     "output_type": "execute_result"
    }
   ],
   "source": [
    "#Part 3\n",
    "def fib(n):\n",
    "    a = [0, 1]\n",
    "    while len(a) < n: a += [sum(a[-2:])]\n",
    "    return a[:n]\n",
    "# printing 9 fibonacci numbers   \n",
    "fib(12)\n",
    "\n",
    "fib_list = fib(12)\n",
    "fib_5 = fib_list[-5:]\n",
    "print(fib_5)\n",
    "\n",
    "\n",
    "#calculates r for height and width\n",
    "ratio = []\n",
    "for index, item in enumerate(fib_list, start = 7):\n",
    "    if index < 12:\n",
    "        current = fib_list[index]\n",
    "        previous = fib_list[index - 1]\n",
    "        ratio.append(current/previous)\n",
    "print(ratio)\n",
    "\n",
    "'''\n",
    "Notice that it approches the golden ratio at this point as the numbers increase by roughly 1.6 every time.\n",
    "'''\n"
   ]
  },
  {
   "cell_type": "code",
   "execution_count": 5,
   "id": "f2d41cc6-a86a-41cf-a21e-28f5002d493c",
   "metadata": {},
   "outputs": [
    {
     "name": "stdout",
     "output_type": "stream",
     "text": [
      "21.6\n",
      "39.6\n",
      "59.4\n",
      "79.2\n",
      "117.0\n",
      "[21.6, 39.6, 59.4, 79.2, 117.0]\n"
     ]
    }
   ],
   "source": [
    "# part 4\n",
    "\n",
    "'''\n",
    "    Convert a given value from Kelvin to Rankine and round it to 2 decimal places.\n",
    "    Wikipedia reference: https://en.wikipedia.org/wiki/Kelvin\n",
    "    Wikipedia reference: https://en.wikipedia.org/wiki/Rankine_scale\n",
    "    >>> kelvin_to_rankine(273.354, 3)\n",
    "    492.037\n",
    "    >>> kelvin_to_rankine(273.354, 0)\n",
    "    492.0\n",
    "    >>> kelvin_to_rankine(0)\n",
    "    0.0\n",
    "    >>> kelvin_to_rankine(20.0)\n",
    "    36.0\n",
    "    >>> kelvin_to_rankine(\"40\")\n",
    "    72.0\n",
    "    >>> kelvin_to_rankine(\"kelvin\")\n",
    "    Traceback (most recent call last):\n",
    "    ...\n",
    "    ValueError: could not convert string to float: 'kelvin'\n",
    "'''\n",
    "def kelvin_to_rankine(kelvin: float, ndigits: int = 2) -> float:\n",
    "    return round((float(kelvin) * 9 / 5), ndigits)\n",
    "\n",
    "# making list and then converting values into rankine through lambda\n",
    "list1 = [12, 22, 33, 44, 65]\n",
    "for i in list1:\n",
    "    print(kelvin_to_rankine(i))\n",
    "    \n",
    "print(list(map(lambda x: x * 9 / 5, list1)))\n"
   ]
  },
  {
   "cell_type": "code",
   "execution_count": 6,
   "id": "4617eb56-20a0-42b5-a98b-78b370fe66d3",
   "metadata": {},
   "outputs": [
    {
     "name": "stdout",
     "output_type": "stream",
     "text": [
      "    A         B  C         D\n",
      "0  16  0.611024  F  0.819061\n",
      "1   7  0.722443  E  9.689341\n",
      "2   9  0.322959  D  2.906630\n",
      "3   3  0.361789  D  1.085366\n"
     ]
    }
   ],
   "source": [
    "# part 5 \n",
    "Cvals = ['D', 'E', 'F']\n",
    "df5 = pd.DataFrame({'A': np.random.randint(low=0, high=20, size=4), 'B': np.random.uniform(low=0,high=1,size=4),'C': np.random.choice(Cvals, size=4)})\n",
    "df5['D'] = df5.apply(lambda row: row['A']*row['B'] if row['C'] == 'D' else (row['A']/row['B'] if row['C'] == 'E' else np.cos(row['B'])), axis=1)\n",
    "print(df5)\n"
   ]
  },
  {
   "cell_type": "code",
   "execution_count": null,
   "id": "efaf7d0f-f5df-4729-be94-9d881c8d420a",
   "metadata": {},
   "outputs": [],
   "source": []
  }
 ],
 "metadata": {
  "kernelspec": {
   "display_name": "Python 3 (ipykernel)",
   "language": "python",
   "name": "python3"
  },
  "language_info": {
   "codemirror_mode": {
    "name": "ipython",
    "version": 3
   },
   "file_extension": ".py",
   "mimetype": "text/x-python",
   "name": "python",
   "nbconvert_exporter": "python",
   "pygments_lexer": "ipython3",
   "version": "3.9.12"
  }
 },
 "nbformat": 4,
 "nbformat_minor": 5
}
